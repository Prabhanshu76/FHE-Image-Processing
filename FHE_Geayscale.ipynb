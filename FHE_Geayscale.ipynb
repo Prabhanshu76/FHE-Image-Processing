{
 "cells": [
  {
   "cell_type": "code",
   "execution_count": 76,
   "id": "7a13fff2-fc73-47c1-8a5d-3a30b72c9116",
   "metadata": {},
   "outputs": [],
   "source": [
    "from eva import *\n",
    "from eva.ckks import *\n",
    "from eva.seal import *\n",
    "import cv2\n",
    "import numpy as np\n",
    "import math"
   ]
  },
  {
   "cell_type": "code",
   "execution_count": 77,
   "id": "6fa1079b-c1e6-4b7e-83fc-40805e57098a",
   "metadata": {},
   "outputs": [],
   "source": [
    "def rgbToGray(b,g,r):\n",
    "    bv = [0.07]*4096\n",
    "    bg = [0.72]*4096\n",
    "    br = [0.21]*4096\n",
    "    \n",
    "    return b*0.07 + g*0.72 + r*0.21"
   ]
  },
  {
   "cell_type": "code",
   "execution_count": 78,
   "id": "1ce2af4d-c347-454e-88cd-144e99d2daf7",
   "metadata": {},
   "outputs": [],
   "source": [
    "def closest(lst, K):\n",
    "      \n",
    "    return lst[min(range(len(lst)), key = lambda i: abs(lst[i]-K))]"
   ]
  },
  {
   "cell_type": "code",
   "execution_count": 79,
   "id": "1536df75-51cb-4b7e-a785-2a2f2ba51c0a",
   "metadata": {},
   "outputs": [],
   "source": [
    "def getImg(imgpath):\n",
    "    li = list(map(lambda x: 2 ** x, range(9)))\n",
    "    img = cv2.imread(imgpath)\n",
    "    row,col,ch = img.shape\n",
    "    vec_size = row*col\n",
    "    resized = img\n",
    "    if row>256 or col>256:\n",
    "        print(\"Max\")\n",
    "        dim = (256, 256)\n",
    "        resized = cv2.resize(img, dim, interpolation = cv2.INTER_AREA)\n",
    "        vec_size = 256*256\n",
    "        return resized, vec_size\n",
    "        \n",
    "    if row not in li:\n",
    "        clo = closest(li, row)\n",
    "        dim = (clo, clo)\n",
    "        resized = cv2.resize(img, dim, interpolation = cv2.INTER_AREA)\n",
    "        vec_size = col*col\n",
    "        return resized, vec_size\n",
    "        \n",
    "        \n",
    "    if row != col:\n",
    "        if row>col:\n",
    "            dim = (row, row)\n",
    "            resized = cv2.resize(img, dim, interpolation = cv2.INTER_AREA)\n",
    "            vec_size = row*row\n",
    "            return resized, vec_size\n",
    "            \n",
    "        else:\n",
    "            dim = (col, col)\n",
    "            resized = cv2.resize(img, dim, interpolation = cv2.INTER_AREA)\n",
    "            vec_size = col*col\n",
    "            return resized, vec_size\n",
    "            \n",
    "            \n",
    "    return resized, vec_size\n",
    "            \n",
    "            \n",
    "    "
   ]
  },
  {
   "cell_type": "code",
   "execution_count": 80,
   "id": "84659718-1b11-4841-a972-fb661d92a73c",
   "metadata": {},
   "outputs": [
    {
     "name": "stdout",
     "output_type": "stream",
     "text": [
      "Max\n"
     ]
    },
    {
     "data": {
      "text/plain": [
       "65536"
      ]
     },
     "execution_count": 80,
     "metadata": {},
     "output_type": "execute_result"
    }
   ],
   "source": [
    "img, vec_size = getImg('images/john-mark-smith-NslBwDGhCf0-unsplash.jpg')\n",
    "vec_size"
   ]
  },
  {
   "cell_type": "code",
   "execution_count": 81,
   "id": "6ef6fd26-26b9-47aa-9845-3de7753ea3ab",
   "metadata": {},
   "outputs": [],
   "source": [
    "poly = EvaProgram('Polynomial', vec_size)\n",
    "with poly:\n",
    "    b = Input('b')\n",
    "    g = Input('g')\n",
    "    r = Input('r')\n",
    "    Output('y', rgbToGray(b,g,r))"
   ]
  },
  {
   "cell_type": "code",
   "execution_count": 82,
   "id": "9d91daa1-349b-49d6-8958-d7f854e11fed",
   "metadata": {},
   "outputs": [
    {
     "name": "stderr",
     "output_type": "stream",
     "text": [
      "WARNING: Program uses vector size 65536 while only 4096 slots are required for security. This does not affect correctness, but higher performance may be available with a smaller vector size.\n"
     ]
    }
   ],
   "source": [
    "poly.set_output_ranges(30)\n",
    "poly.set_input_scales(30)\n",
    "compiler = CKKSCompiler()\n",
    "compiled_poly, params, signature = compiler.compile(poly)\n",
    "public_ctx, secret_ctx = generate_keys(params)"
   ]
  },
  {
   "cell_type": "code",
   "execution_count": 83,
   "id": "2369afd3-10b3-42bd-8103-28d559a4f856",
   "metadata": {},
   "outputs": [],
   "source": [
    "#img = cv2.imread('images/baboon.png')\n"
   ]
  },
  {
   "cell_type": "code",
   "execution_count": 84,
   "id": "5eec50f5-7340-4008-825e-43f436d1afb2",
   "metadata": {},
   "outputs": [],
   "source": [
    "lib= img[:,:,0].flatten()\n",
    "lig= img[:,:,1].flatten()\n",
    "lir= img[:,:,2].flatten()"
   ]
  },
  {
   "cell_type": "code",
   "execution_count": 85,
   "id": "38cfe070-8974-41d9-bc30-6d41093afc6f",
   "metadata": {},
   "outputs": [],
   "source": [
    "inputs = { 'b':lib, 'g':lig, 'r':lir}\n",
    "encInputs = public_ctx.encrypt(inputs, signature)"
   ]
  },
  {
   "cell_type": "code",
   "execution_count": 86,
   "id": "bf16ddc9-0e3d-4288-b3b2-c9691b766bd4",
   "metadata": {},
   "outputs": [],
   "source": [
    "encOutputs = public_ctx.execute(compiled_poly, encInputs)"
   ]
  },
  {
   "cell_type": "code",
   "execution_count": 87,
   "id": "abbb9b53-7825-4c0a-b434-e33c8ece6390",
   "metadata": {},
   "outputs": [],
   "source": [
    "outputs = secret_ctx.decrypt(encOutputs, signature)"
   ]
  },
  {
   "cell_type": "code",
   "execution_count": 88,
   "id": "5604edd4-6a6b-425d-bd0b-caafe423ac39",
   "metadata": {},
   "outputs": [
    {
     "data": {
      "text/plain": [
       "True"
      ]
     },
     "execution_count": 88,
     "metadata": {},
     "output_type": "execute_result"
    }
   ],
   "source": [
    "size = int(math.sqrt(vec_size))\n",
    "gr = np.array(outputs.get('y'))\n",
    "cv2.imwrite(\"test1.png\" , gr.reshape(size,size)) "
   ]
  },
  {
   "cell_type": "code",
   "execution_count": null,
   "id": "f5649841-f71e-4a3b-8d07-e806f6faaa6b",
   "metadata": {},
   "outputs": [],
   "source": []
  },
  {
   "cell_type": "code",
   "execution_count": null,
   "id": "865b5ed8-c0a2-4070-961c-55407bb1245c",
   "metadata": {},
   "outputs": [],
   "source": []
  }
 ],
 "metadata": {
  "kernelspec": {
   "display_name": "Python 3 (ipykernel)",
   "language": "python",
   "name": "python3"
  },
  "language_info": {
   "codemirror_mode": {
    "name": "ipython",
    "version": 3
   },
   "file_extension": ".py",
   "mimetype": "text/x-python",
   "name": "python",
   "nbconvert_exporter": "python",
   "pygments_lexer": "ipython3",
   "version": "3.10.4"
  }
 },
 "nbformat": 4,
 "nbformat_minor": 5
}
